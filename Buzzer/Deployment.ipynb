{
  "nbformat": 4,
  "nbformat_minor": 5,
  "metadata": {
    "kernelspec": {
      "display_name": "Python 3",
      "language": "python",
      "name": "python3"
    },
    "language_info": {
      "codemirror_mode": {
        "name": "ipython",
        "version": 3
      },
      "file_extension": ".py",
      "mimetype": "text/x-python",
      "name": "python",
      "nbconvert_exporter": "python",
      "pygments_lexer": "ipython3",
      "version": "3.7.9"
    },
    "colab": {
      "name": "DeploymentBuzzer.ipynb",
      "provenance": [],
      "collapsed_sections": []
    }
  },
  "cells": [
    {
      "cell_type": "markdown",
      "metadata": {
        "id": "rolled-pursuit"
      },
      "source": [
        "# IMPORT LIBRARY"
      ],
      "id": "rolled-pursuit"
    },
    {
      "cell_type": "code",
      "metadata": {
        "id": "endless-feelings"
      },
      "source": [
        "import tensorflow as tf\n",
        "from tensorflow.keras.models import load_model"
      ],
      "id": "endless-feelings",
      "execution_count": null,
      "outputs": []
    },
    {
      "cell_type": "markdown",
      "metadata": {
        "id": "valued-postcard"
      },
      "source": [
        "# Load Model"
      ],
      "id": "valued-postcard"
    },
    {
      "cell_type": "code",
      "metadata": {
        "colab": {
          "base_uri": "https://localhost:8080/"
        },
        "id": "Ed0O3LhzslU8",
        "outputId": "fa0979d7-bdb5-4190-9e49-fb62b517a3a0"
      },
      "source": [
        "!gdown --id 1IeKLpYxK4M7FCW14UPLROzBMkpTxRHpi"
      ],
      "id": "Ed0O3LhzslU8",
      "execution_count": null,
      "outputs": [
        {
          "output_type": "stream",
          "text": [
            "Downloading...\n",
            "From: https://drive.google.com/uc?id=1IeKLpYxK4M7FCW14UPLROzBMkpTxRHpi\n",
            "To: /content/model.h5\n",
            "\r  0% 0.00/37.5k [00:00<?, ?B/s]\r100% 37.5k/37.5k [00:00<00:00, 9.50MB/s]\n"
          ],
          "name": "stdout"
        }
      ]
    },
    {
      "cell_type": "code",
      "metadata": {
        "id": "aggregate-agenda"
      },
      "source": [
        "model = load_model('model.h5')"
      ],
      "id": "aggregate-agenda",
      "execution_count": null,
      "outputs": []
    },
    {
      "cell_type": "markdown",
      "metadata": {
        "id": "indonesian-abuse"
      },
      "source": [
        "# Rescaling value"
      ],
      "id": "indonesian-abuse"
    },
    {
      "cell_type": "code",
      "metadata": {
        "id": "sudden-manhattan"
      },
      "source": [
        "fullnamewords_maxmin = [12, 5]\n",
        "fullnamelen_maxmin = [50,0]\n",
        "desclen_maxmin = [150, 0]\n",
        "posts_maxmin = [299 * 3, 0]\n",
        "followers_maxmin = [110*3, 0]\n",
        "following_maxmin = [302*3, 0]"
      ],
      "id": "sudden-manhattan",
      "execution_count": null,
      "outputs": []
    },
    {
      "cell_type": "code",
      "metadata": {
        "id": "atomic-criterion"
      },
      "source": [
        "def rescale_uname(value):\n",
        "    max = 15\n",
        "    min = 4\n",
        "    if value > max:\n",
        "        value = 1.0\n",
        "    elif value < min:\n",
        "        value = 0.0\n",
        "    else:\n",
        "        value = (value-min)/(max-min)\n",
        "    return value\n",
        "\n",
        "def rescale(value, maxmin):\n",
        "    maxval = maxmin[0]\n",
        "    minval = maxmin[1]\n",
        "    if value > maxval:\n",
        "        value = 1.0\n",
        "    elif value < minval:\n",
        "        value = 0.0\n",
        "    else:\n",
        "        value = (value-minval)/(maxval-minval)\n",
        "    return value"
      ],
      "id": "atomic-criterion",
      "execution_count": null,
      "outputs": []
    },
    {
      "cell_type": "markdown",
      "metadata": {
        "id": "resistant-scenario"
      },
      "source": [
        "# Method Preprocessing Data Sebelum dimasukan Ke Model"
      ],
      "id": "resistant-scenario"
    },
    {
      "cell_type": "code",
      "metadata": {
        "id": "entire-dynamics"
      },
      "source": [
        "def processing_profil(profil_pic, username, fullname, desc, private, posts, followers, following):\n",
        "#     username = username.replace('@', '')\n",
        "    username = username.lower()\n",
        "#     print(\"username = {}\".format(username))\n",
        "    username_len = rescale_uname(len(username))\n",
        "#     print(\"username length = {}\".format(username_len))\n",
        "    fullname_words = fullname.split()\n",
        "    fullname_words = len(fullname_words)\n",
        "    fullname_words = rescale(fullname_words, fullnamewords_maxmin)\n",
        "#     print(\"Fullname words = {}\".format(fullname_words))\n",
        "    fullname_len = rescale(len(fullname), fullnamelen_maxmin)\n",
        "#     print(\"Fullname length = {}\".format(fullname_len))\n",
        "    fullname = fullname.replace(' ', '')\n",
        "    fullname = fullname.lower()\n",
        "    \n",
        "    if fullname == username:\n",
        "        same = 1\n",
        "    else:\n",
        "        same = 0\n",
        "#     print(\"is same fullname username = {}\".format(same))\n",
        "    \n",
        "    desc_len = rescale(len(desc), desclen_maxmin)\n",
        "#     print(\"Desc length = {}\".format(desc_len))\n",
        "    num_post = rescale(posts, posts_maxmin)\n",
        "#     print(\"post = {}\".format(num_post))\n",
        "    followers = rescale(followers, followers_maxmin)\n",
        "#     print(\"followers = {}\".format(followers))\n",
        "    following = rescale(following, following_maxmin)\n",
        "#     print(\"following = {}\".format(following))\n",
        "    if profil_pic is None or profil_pic is 'null':\n",
        "        profil_pic = 0\n",
        "    else:\n",
        "        profil_pic = 1\n",
        "        \n",
        "    if private:\n",
        "        private = 1\n",
        "    else: \n",
        "        private = 0\n",
        "    \n",
        "    features = [\n",
        "        profil_pic,\n",
        "        username_len,\n",
        "        fullname_words,\n",
        "        fullname_len,\n",
        "        same,\n",
        "        desc_len,\n",
        "        private,\n",
        "        num_post,\n",
        "        followers,\n",
        "        following\n",
        "    ]\n",
        "    \n",
        "    return features"
      ],
      "id": "entire-dynamics",
      "execution_count": null,
      "outputs": []
    },
    {
      "cell_type": "markdown",
      "metadata": {
        "id": "generous-lindsay"
      },
      "source": [
        "# Customisasi Hasil Keluaran"
      ],
      "id": "generous-lindsay"
    },
    {
      "cell_type": "code",
      "metadata": {
        "id": "laughing-fifteen"
      },
      "source": [
        "def process_result(result):\n",
        "    result_list = []\n",
        "    \n",
        "    for res in result:\n",
        "        res[0] *= 100\n",
        "        if(res[0] > 50):\n",
        "            result_list.append(\"User Probably {:.2f}% is BUZZER/FAKE Account\".format(res[0]))\n",
        "        else:\n",
        "            result_list.append(\"User Probably {:.2f}% is ACTIVE Account\".format(100-res[0]))\n",
        "    \n",
        "    return result_list"
      ],
      "id": "laughing-fifteen",
      "execution_count": null,
      "outputs": []
    },
    {
      "cell_type": "markdown",
      "metadata": {
        "id": "transsexual-understanding"
      },
      "source": [
        "# Handler Data dari Dictionary"
      ],
      "id": "transsexual-understanding"
    },
    {
      "cell_type": "code",
      "metadata": {
        "id": "elect-lodge"
      },
      "source": [
        "def dict_handler(dictlist, model):\n",
        "    profil_name = []\n",
        "    query = []\n",
        "    for dict in dictlist:\n",
        "        single_list = []\n",
        "        profil_pic = dict['profil_pic']\n",
        "        username = dict['username']\n",
        "        fullname = dict['fullname']\n",
        "        desc = dict['desc']\n",
        "        private = dict['private']\n",
        "        posts = dict['posts']\n",
        "        followers = dict['followers']\n",
        "        following = dict['following']\n",
        "        single_list = processing_profil(profil_pic, username, fullname, desc, private, posts, followers, following)\n",
        "        profil_name.append(username)\n",
        "        query.append(single_list)\n",
        "    result = model.predict(query)\n",
        "    result = process_result(result)\n",
        "    return profil_name, result"
      ],
      "id": "elect-lodge",
      "execution_count": null,
      "outputs": []
    },
    {
      "cell_type": "markdown",
      "metadata": {
        "id": "varied-cache"
      },
      "source": [
        "# Function Menampilkan Hasil"
      ],
      "id": "varied-cache"
    },
    {
      "cell_type": "code",
      "metadata": {
        "id": "selective-tackle"
      },
      "source": [
        "def show_result(owner_list, result_list):\n",
        "    for i in range(len(owner_list)):\n",
        "        print(owner_list[i])\n",
        "        print(result_list[i])\n",
        "        print()"
      ],
      "id": "selective-tackle",
      "execution_count": null,
      "outputs": []
    },
    {
      "cell_type": "markdown",
      "metadata": {
        "id": "authentic-paste"
      },
      "source": [
        "# Silahkan Input Data Account Dalam Dictionary Ini"
      ],
      "id": "authentic-paste"
    },
    {
      "cell_type": "code",
      "metadata": {
        "colab": {
          "base_uri": "https://localhost:8080/"
        },
        "id": "invalid-convention",
        "outputId": "8fe38f38-1880-4a90-90f7-0c1209531cfd"
      },
      "source": [
        "data_dict = [\n",
        "    {'profil_pic' : 'http/1231232114214',\n",
        "    'username' : '@malfrzt',\n",
        "    'fullname' : 'M Alfarizi',\n",
        "    'desc' : 'ig : muhammadalfarizi.t',\n",
        "    'private' : False,\n",
        "    'posts' : 613,\n",
        "    'followers' : 111,\n",
        "    'following' : 89},\n",
        "             \n",
        "     {'profil_pic' : None,\n",
        "    'username' : '@best_in_dumbest',\n",
        "    'fullname' : 'The Best In Dumbest',\n",
        "    'desc' : 'Blame @xaiax, Inspired by @MakingInvisible, using cmu phonetic data to produce incongruous matches.Some images via Lorem Flickr.',\n",
        "    'private' : False,\n",
        "    'posts' : 251,\n",
        "    'followers' : 1700,\n",
        "    'following' : 4},\n",
        "    \n",
        "    {'profil_pic' : None,\n",
        "    'username' : '@CJRubinPhoto',\n",
        "    'fullname' : 'CJ Rubin',\n",
        "    'desc' : 'Photographing the American West since 1980. I specialize in location portraits & events, both indoors & outside, using natural light & portable studio lighting.',\n",
        "    'private' : True,\n",
        "    'posts' : 84100,\n",
        "    'followers' : 1800000000,\n",
        "    'following' : 2269},\n",
        "    \n",
        "    {'profil_pic' : 'httpasdadadads',\n",
        "    'username' : '@JacobWhitesides',\n",
        "    'fullname' : 'jacob whitesides',\n",
        "    'desc' : 'Photographing the American West since 1980. I specialize in location portraits & events, both indoors & outside, using natural light & portable studio lighting.',\n",
        "    'private' : False,\n",
        "    'posts' : 84100,\n",
        "    'followers' : 820,\n",
        "    'following' : 851},\n",
        "    \n",
        "    {'profil_pic' : None,\n",
        "    'username' : '@KaitlynTck',\n",
        "    'fullname' : 'Kaitlyn • Girl Pow-R',\n",
        "    'desc' : 'Girl Pow-R Trainees: The Rubies Gem stonesinger & actress 11x Scenebot Honorable Mention and 19x Top Select, Insta - kaitlyn_tck',\n",
        "    'private' : True,\n",
        "    'posts' : 9341,\n",
        "    'followers' : 583,\n",
        "    'following' : 951},\n",
        "    \n",
        "    {'profil_pic' : 'httpasfasfwefwe',\n",
        "    'username' : '@SaputriRisty',\n",
        "    'fullname' : 'Risty Saputri',\n",
        "     'desc' : 'Mutualan terus',\n",
        "    'private' :True,\n",
        "    'posts' : 218,\n",
        "    'followers' : 33,\n",
        "    'following' : 49},\n",
        "    ]\n",
        "\n",
        "owner, result = dict_handler(data_dict , model)\n",
        "\n",
        "show_result(owner, result)"
      ],
      "id": "invalid-convention",
      "execution_count": null,
      "outputs": [
        {
          "output_type": "stream",
          "text": [
            "@malfrzt\n",
            "User Probably 81.40% is ACTIVE Account\n",
            "\n",
            "@best_in_dumbest\n",
            "User Probably 94.41% is BUZZER/FAKE Account\n",
            "\n",
            "@CJRubinPhoto\n",
            "User Probably 94.96% is ACTIVE Account\n",
            "\n",
            "@JacobWhitesides\n",
            "User Probably 92.03% is ACTIVE Account\n",
            "\n",
            "@KaitlynTck\n",
            "User Probably 97.20% is ACTIVE Account\n",
            "\n",
            "@SaputriRisty\n",
            "User Probably 99.95% is BUZZER/FAKE Account\n",
            "\n"
          ],
          "name": "stdout"
        }
      ]
    },
    {
      "cell_type": "code",
      "metadata": {
        "id": "lyric-reading"
      },
      "source": [
        ""
      ],
      "id": "lyric-reading",
      "execution_count": null,
      "outputs": []
    },
    {
      "cell_type": "code",
      "metadata": {
        "id": "affecting-procurement"
      },
      "source": [
        ""
      ],
      "id": "affecting-procurement",
      "execution_count": null,
      "outputs": []
    }
  ]
}
