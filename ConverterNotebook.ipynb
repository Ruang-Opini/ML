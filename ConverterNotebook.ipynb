{
  "nbformat": 4,
  "nbformat_minor": 0,
  "metadata": {
    "colab": {
      "name": "Untitled1.ipynb",
      "provenance": []
    },
    "kernelspec": {
      "name": "python3",
      "display_name": "Python 3"
    },
    "language_info": {
      "name": "python"
    }
  },
  "cells": [
    {
      "cell_type": "code",
      "metadata": {
        "id": "Pa_2UFR8isjk"
      },
      "source": [
        "import tensorflow as tf\n",
        "import pathlib"
      ],
      "execution_count": 13,
      "outputs": []
    },
    {
      "cell_type": "code",
      "metadata": {
        "id": "k3tbkplenVqG"
      },
      "source": [
        "model = tf.keras.models.load_model('./model_sentiment.h5')"
      ],
      "execution_count": 15,
      "outputs": []
    },
    {
      "cell_type": "code",
      "metadata": {
        "id": "lawLIsmonZcC"
      },
      "source": [
        "export_dir = 'saved_model/1'\n",
        "tf.saved_model.save(model, export_dir)"
      ],
      "execution_count": null,
      "outputs": []
    },
    {
      "cell_type": "code",
      "metadata": {
        "id": "Efoe4pVWmQlb"
      },
      "source": [
        "converter = tf.lite.TFLiteConverter.from_saved_model(export_dir)\n",
        "# converter.target_ops = [\n",
        "#                         tf.lite.OpsSet.TFLITE_BUILTINS,\n",
        "#                         tf.lite.OpsSet.SELECT_TF_OPS\n",
        "# ]\n",
        "\n",
        "tflite_model = converter.convert()"
      ],
      "execution_count": 19,
      "outputs": []
    },
    {
      "cell_type": "code",
      "metadata": {
        "colab": {
          "base_uri": "https://localhost:8080/"
        },
        "id": "95CZH-6fnkif",
        "outputId": "b4f10ca3-1191-47eb-ef82-92c28653c653"
      },
      "source": [
        "tflite_model_file = pathlib.Path('/content/model_sentiment.tflite')\n",
        "tflite_model_file.write_bytes(tflite_model)"
      ],
      "execution_count": 22,
      "outputs": [
        {
          "output_type": "execute_result",
          "data": {
            "text/plain": [
              "15812888"
            ]
          },
          "metadata": {
            "tags": []
          },
          "execution_count": 22
        }
      ]
    }
  ]
}