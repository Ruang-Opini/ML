{
  "nbformat": 4,
  "nbformat_minor": 0,
  "metadata": {
    "colab": {
      "name": "DeploymentSentiment.ipynb",
      "provenance": [],
      "collapsed_sections": []
    },
    "kernelspec": {
      "name": "python3",
      "display_name": "Python 3"
    },
    "language_info": {
      "name": "python"
    }
  },
  "cells": [
    {
      "cell_type": "code",
      "metadata": {
        "colab": {
          "base_uri": "https://localhost:8080/"
        },
        "id": "2CgQKUrzrGGt",
        "outputId": "ab99333e-ddb5-40d1-df43-a075d7c68cf4"
      },
      "source": [
        "!gdown --id 1q1TJLKInQyNKNJP6wjkrgNVimGErFJSv\n",
        "!gdown --id 1EN3b-Ejaz1USUZ2li0GAFtsK8ONur6am"
      ],
      "execution_count": null,
      "outputs": [
        {
          "output_type": "stream",
          "text": [
            "Downloading...\n",
            "From: https://drive.google.com/uc?id=1q1TJLKInQyNKNJP6wjkrgNVimGErFJSv\n",
            "To: /content/model_sentiment.h5\n",
            "47.4MB [00:00, 76.8MB/s]\n",
            "Downloading...\n",
            "From: https://drive.google.com/uc?id=1EN3b-Ejaz1USUZ2li0GAFtsK8ONur6am\n",
            "To: /content/tokenizer.pickle\n",
            "100% 774k/774k [00:00<00:00, 51.3MB/s]\n"
          ],
          "name": "stdout"
        }
      ]
    },
    {
      "cell_type": "code",
      "metadata": {
        "id": "wpLasi8osIx5"
      },
      "source": [
        "import tensorflow as tf\n",
        "import pickle\n",
        "from tensorflow.keras.preprocessing.text import Tokenizer\n",
        "from tensorflow.keras.preprocessing.sequence import pad_sequences\n",
        "from tensorflow.keras.models import load_model"
      ],
      "execution_count": null,
      "outputs": []
    },
    {
      "cell_type": "code",
      "metadata": {
        "id": "2VgMGYacs5dr"
      },
      "source": [
        "with open('tokenizer.pickle', 'rb') as handle:\n",
        "  tokenizer = pickle.load(handle)"
      ],
      "execution_count": null,
      "outputs": []
    },
    {
      "cell_type": "code",
      "metadata": {
        "id": "6BOleDtotC78"
      },
      "source": [
        "model = load_model('model_sentiment.h5')"
      ],
      "execution_count": null,
      "outputs": []
    },
    {
      "cell_type": "code",
      "metadata": {
        "id": "1SwrEj3ktKGE"
      },
      "source": [
        "def Encoding(text):\n",
        "    sequence = tokenizer.texts_to_sequences([text])\n",
        "    paded = pad_sequences(sequence, padding='pre', truncating='post', maxlen=125)\n",
        "    \n",
        "    return paded"
      ],
      "execution_count": null,
      "outputs": []
    },
    {
      "cell_type": "code",
      "metadata": {
        "id": "MzQ-1AoRtO3D"
      },
      "source": [
        "def classify(score):\n",
        "    if score > 50:\n",
        "        print(\"Kalimat ini {:.2f}% Kalimat CONTRA (-)\".format(score))\n",
        "    else:\n",
        "        print(\"Kalimat ini {:.2f}% Kalimat PRO (+)\".format((100-score)))"
      ],
      "execution_count": null,
      "outputs": []
    },
    {
      "cell_type": "code",
      "metadata": {
        "id": "4DKV1VQbtXUz"
      },
      "source": [
        "def TextProcessing(text, model):\n",
        "    sequence = Encoding(text)\n",
        "    result = model.predict(sequence)\n",
        "    \n",
        "    return result[0][0] * 100"
      ],
      "execution_count": null,
      "outputs": []
    },
    {
      "cell_type": "code",
      "metadata": {
        "id": "GA0Ee2mJtbS-",
        "colab": {
          "base_uri": "https://localhost:8080/"
        },
        "outputId": "2061346e-fe22-4959-a3d2-abcd928b1636"
      },
      "source": [
        "list_sentences = []\n",
        "session = True\n",
        "\n",
        "print(\"Input 'stop' for Predicting Your Senteces\")\n",
        "\n",
        "while session:\n",
        "  sentence = input(\"Please input your text : \")\n",
        "  if sentence.lower() != \"stop\":\n",
        "    list_sentences.append(sentence)\n",
        "  else:\n",
        "    break\n",
        "\n",
        "print()\n",
        "print(\"Start Predicting...\")\n",
        "print()\n",
        "\n",
        "for sentence in list_sentences:\n",
        "  print(sentence)\n",
        "  classify(TextProcessing(sentence, model))\n",
        "  print()"
      ],
      "execution_count": null,
      "outputs": [
        {
          "output_type": "stream",
          "text": [
            "Input 'stop' for Predicting Your Senteces\n",
            "Please input your text : Pemerintah ini kelakuan cuma bikin pusing aja, heran\n",
            "Please input your text : kalo udah gede saya mau jadi orang sukses\n",
            "Please input your text : woy itu menor banget muka udah kayak badut\n",
            "Please input your text : menurut saya pemerintah yang sekarang kurang bisa dipercaya\n",
            "Please input your text : STOP\n",
            "\n",
            "Start Predicting...\n",
            "\n",
            "Pemerintah ini kelakuan cuma bikin pusing aja, heran\n",
            "Kalimat ini 79.40% Kalimat CONTRA (-)\n",
            "\n",
            "kalo udah gede saya mau jadi orang sukses\n",
            "Kalimat ini 71.03% Kalimat PRO (+)\n",
            "\n",
            "woy itu menor banget muka udah kayak badut\n",
            "Kalimat ini 83.60% Kalimat CONTRA (-)\n",
            "\n",
            "menurut saya pemerintah yang sekarang kurang bisa dipercaya\n",
            "Kalimat ini 61.35% Kalimat CONTRA (-)\n",
            "\n"
          ],
          "name": "stdout"
        }
      ]
    }
  ]
}
