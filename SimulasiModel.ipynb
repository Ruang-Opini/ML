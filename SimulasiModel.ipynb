{
 "cells": [
  {
   "cell_type": "code",
   "execution_count": null,
   "id": "living-webcam",
   "metadata": {},
   "outputs": [],
   "source": [
    "# Kalo belum ada package tensorflow\n",
    "!pip install tensorflow"
   ]
  },
  {
   "cell_type": "markdown",
   "id": "temporal-oliver",
   "metadata": {},
   "source": [
    "# Import Library"
   ]
  },
  {
   "cell_type": "code",
   "execution_count": 25,
   "id": "southwest-thumb",
   "metadata": {},
   "outputs": [],
   "source": [
    "import tensorflow as tf\n",
    "import pickle\n",
    "\n",
    "from tensorflow.keras.preprocessing.text import Tokenizer\n",
    "from tensorflow.keras.preprocessing.sequence import pad_sequences\n",
    "from tensorflow.keras.models import load_model"
   ]
  },
  {
   "cell_type": "code",
   "execution_count": 26,
   "id": "dominican-chest",
   "metadata": {},
   "outputs": [],
   "source": [
    "with open('tokenizer.pickle', 'rb') as handle:\n",
    "    tokenizer = pickle.load(handle)"
   ]
  },
  {
   "cell_type": "markdown",
   "id": "continental-bulgarian",
   "metadata": {},
   "source": [
    "## Load Data dari Model"
   ]
  },
  {
   "cell_type": "code",
   "execution_count": 36,
   "id": "loose-wright",
   "metadata": {},
   "outputs": [],
   "source": [
    "model_sentiment = load_model('./model2/model_sentiment.h5')"
   ]
  },
  {
   "cell_type": "markdown",
   "id": "superior-amendment",
   "metadata": {},
   "source": [
    "# Encode Text menjadi Sequence pake fungsi ini"
   ]
  },
  {
   "cell_type": "code",
   "execution_count": 7,
   "id": "owned-notice",
   "metadata": {},
   "outputs": [],
   "source": [
    "def get_encode(text):\n",
    "    kalimat = tokenizer.texts_to_sequences(text)\n",
    "    \n",
    "    kalimat_padded = pad_sequences(kalimat, padding = 'post', maxlen = SEQUENCES_LENGTH)\n",
    "    \n",
    "    return kalimat_padded"
   ]
  },
  {
   "cell_type": "markdown",
   "id": "comprehensive-brave",
   "metadata": {},
   "source": [
    "# Fungsi Klasifikasi, INPUT = Probabilitas kandungan kalimat negatif\n",
    "\n",
    "### sebenernya gaterlalu penting, cuma buat display hasil nya aja"
   ]
  },
  {
   "cell_type": "code",
   "execution_count": 8,
   "id": "racial-newark",
   "metadata": {},
   "outputs": [],
   "source": [
    "def classify(score):\n",
    "    if score > 0.5:\n",
    "        return \"Terdeteksi Kalimat Negatif\"\n",
    "    else:\n",
    "        return \"Tidak Terdeteksi Kalimat Negatif\""
   ]
  },
  {
   "cell_type": "markdown",
   "id": "ancient-winning",
   "metadata": {},
   "source": [
    "# TextProcessor, pokonya masukin text kesini, dia langsung proses ke get encode sekaligus manggil fungsi classify\n",
    "\n",
    "### Parameter -> text dalam bentuk string, sama model yang dipake"
   ]
  },
  {
   "cell_type": "code",
   "execution_count": 21,
   "id": "duplicate-violence",
   "metadata": {},
   "outputs": [],
   "source": [
    "def textProcessor(text, choosen_model):\n",
    "    encoded_text = get_encode(text)\n",
    "    hasil = choosen_model.predict(encoded_text)\n",
    "    print(\"Teks ini {} % kemungkinan mengandung maksud NEGATIF\".format(int(hasil[0][0] * 100)))\n",
    "    print(classify(hasil[0]))"
   ]
  },
  {
   "cell_type": "markdown",
   "id": "nasty-found",
   "metadata": {},
   "source": [
    "# CONTOH"
   ]
  },
  {
   "cell_type": "code",
   "execution_count": 28,
   "id": "complete-malawi",
   "metadata": {},
   "outputs": [
    {
     "name": "stdout",
     "output_type": "stream",
     "text": [
      "Teks ini 7 % kemungkinan mengandung maksud NEGATIF\n",
      "Tidak Terdeteksi Kalimat Negatif\n"
     ]
    }
   ],
   "source": [
    "textProcessor(\"Pemerintah yang sekarang enak, bisa dipercaya\", model_sentiment)"
   ]
  },
  {
   "cell_type": "markdown",
   "id": "racial-championship",
   "metadata": {},
   "source": [
    "## Disclaimer -> model belom fix, hasil tokenizer yang disini beda sama yg pas training model nya, jadi ngacak wkwk\n",
    "\n",
    "### tapi buat coba coba simulasi make model bisa lah"
   ]
  },
  {
   "cell_type": "code",
   "execution_count": null,
   "id": "surprising-twenty",
   "metadata": {},
   "outputs": [],
   "source": []
  }
 ],
 "metadata": {
  "kernelspec": {
   "display_name": "Python 3",
   "language": "python",
   "name": "python3"
  },
  "language_info": {
   "codemirror_mode": {
    "name": "ipython",
    "version": 3
   },
   "file_extension": ".py",
   "mimetype": "text/x-python",
   "name": "python",
   "nbconvert_exporter": "python",
   "pygments_lexer": "ipython3",
   "version": "3.7.9"
  }
 },
 "nbformat": 4,
 "nbformat_minor": 5
}
