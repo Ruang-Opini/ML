{
 "cells": [
  {
   "cell_type": "code",
   "execution_count": 1,
   "id": "broadband-vehicle",
   "metadata": {
    "collapsed": true,
    "jupyter": {
     "outputs_hidden": true
    },
    "tags": []
   },
   "outputs": [
    {
     "name": "stdout",
     "output_type": "stream",
     "text": [
      "Requirement already satisfied: tensorflow in c:\\users\\muhammadalfarizi\\appdata\\local\\programs\\python\\python37\\lib\\site-packages (2.4.1)\n",
      "Requirement already satisfied: tensorboard~=2.4 in c:\\users\\muhammadalfarizi\\appdata\\local\\programs\\python\\python37\\lib\\site-packages (from tensorflow) (2.4.1)\n",
      "Requirement already satisfied: astunparse~=1.6.3 in c:\\users\\muhammadalfarizi\\appdata\\local\\programs\\python\\python37\\lib\\site-packages (from tensorflow) (1.6.3)\n",
      "Requirement already satisfied: opt-einsum~=3.3.0 in c:\\users\\muhammadalfarizi\\appdata\\local\\programs\\python\\python37\\lib\\site-packages (from tensorflow) (3.3.0)\n",
      "Requirement already satisfied: typing-extensions~=3.7.4 in c:\\users\\muhammadalfarizi\\appdata\\local\\programs\\python\\python37\\lib\\site-packages (from tensorflow) (3.7.4.3)\n",
      "Requirement already satisfied: tensorflow-estimator<2.5.0,>=2.4.0 in c:\\users\\muhammadalfarizi\\appdata\\local\\programs\\python\\python37\\lib\\site-packages (from tensorflow) (2.4.0)\n",
      "Requirement already satisfied: google-pasta~=0.2 in c:\\users\\muhammadalfarizi\\appdata\\local\\programs\\python\\python37\\lib\\site-packages (from tensorflow) (0.2.0)\n",
      "Requirement already satisfied: absl-py~=0.10 in c:\\users\\muhammadalfarizi\\appdata\\local\\programs\\python\\python37\\lib\\site-packages (from tensorflow) (0.12.0)\n",
      "Requirement already satisfied: six~=1.15.0 in c:\\users\\muhammadalfarizi\\appdata\\local\\programs\\python\\python37\\lib\\site-packages (from tensorflow) (1.15.0)\n",
      "Requirement already satisfied: termcolor~=1.1.0 in c:\\users\\muhammadalfarizi\\appdata\\local\\programs\\python\\python37\\lib\\site-packages (from tensorflow) (1.1.0)\n",
      "Requirement already satisfied: flatbuffers~=1.12.0 in c:\\users\\muhammadalfarizi\\appdata\\local\\programs\\python\\python37\\lib\\site-packages (from tensorflow) (1.12)\n",
      "Requirement already satisfied: wheel~=0.35 in c:\\users\\muhammadalfarizi\\appdata\\local\\programs\\python\\python37\\lib\\site-packages (from tensorflow) (0.36.2)\n",
      "Requirement already satisfied: h5py~=2.10.0 in c:\\users\\muhammadalfarizi\\appdata\\local\\programs\\python\\python37\\lib\\site-packages (from tensorflow) (2.10.0)\n",
      "Requirement already satisfied: protobuf>=3.9.2 in c:\\users\\muhammadalfarizi\\appdata\\local\\programs\\python\\python37\\lib\\site-packages (from tensorflow) (3.15.6)\n",
      "Requirement already satisfied: grpcio~=1.32.0 in c:\\users\\muhammadalfarizi\\appdata\\local\\programs\\python\\python37\\lib\\site-packages (from tensorflow) (1.32.0)\n",
      "Requirement already satisfied: numpy~=1.19.2 in c:\\users\\muhammadalfarizi\\appdata\\local\\programs\\python\\python37\\lib\\site-packages (from tensorflow) (1.19.5)\n",
      "Requirement already satisfied: keras-preprocessing~=1.1.2 in c:\\users\\muhammadalfarizi\\appdata\\local\\programs\\python\\python37\\lib\\site-packages (from tensorflow) (1.1.2)\n",
      "Requirement already satisfied: gast==0.3.3 in c:\\users\\muhammadalfarizi\\appdata\\local\\programs\\python\\python37\\lib\\site-packages (from tensorflow) (0.3.3)\n",
      "Requirement already satisfied: wrapt~=1.12.1 in c:\\users\\muhammadalfarizi\\appdata\\local\\programs\\python\\python37\\lib\\site-packages (from tensorflow) (1.12.1)\n",
      "Requirement already satisfied: google-auth<2,>=1.6.3 in c:\\users\\muhammadalfarizi\\appdata\\local\\programs\\python\\python37\\lib\\site-packages (from tensorboard~=2.4->tensorflow) (1.28.0)\n",
      "Requirement already satisfied: requests<3,>=2.21.0 in c:\\users\\muhammadalfarizi\\appdata\\local\\programs\\python\\python37\\lib\\site-packages (from tensorboard~=2.4->tensorflow) (2.21.0)\n",
      "Requirement already satisfied: google-auth-oauthlib<0.5,>=0.4.1 in c:\\users\\muhammadalfarizi\\appdata\\local\\programs\\python\\python37\\lib\\site-packages (from tensorboard~=2.4->tensorflow) (0.4.3)\n",
      "Requirement already satisfied: tensorboard-plugin-wit>=1.6.0 in c:\\users\\muhammadalfarizi\\appdata\\local\\programs\\python\\python37\\lib\\site-packages (from tensorboard~=2.4->tensorflow) (1.8.0)\n",
      "Requirement already satisfied: markdown>=2.6.8 in c:\\users\\muhammadalfarizi\\appdata\\local\\programs\\python\\python37\\lib\\site-packages (from tensorboard~=2.4->tensorflow) (3.3.4)\n",
      "Requirement already satisfied: werkzeug>=0.11.15 in c:\\users\\muhammadalfarizi\\appdata\\local\\programs\\python\\python37\\lib\\site-packages (from tensorboard~=2.4->tensorflow) (1.0.1)\n",
      "Requirement already satisfied: setuptools>=41.0.0 in c:\\users\\muhammadalfarizi\\appdata\\local\\programs\\python\\python37\\lib\\site-packages (from tensorboard~=2.4->tensorflow) (47.1.0)\n",
      "Requirement already satisfied: pyasn1-modules>=0.2.1 in c:\\users\\muhammadalfarizi\\appdata\\local\\programs\\python\\python37\\lib\\site-packages (from google-auth<2,>=1.6.3->tensorboard~=2.4->tensorflow) (0.2.8)\n",
      "Requirement already satisfied: rsa<5,>=3.1.4 in c:\\users\\muhammadalfarizi\\appdata\\local\\programs\\python\\python37\\lib\\site-packages (from google-auth<2,>=1.6.3->tensorboard~=2.4->tensorflow) (4.7.2)\n",
      "Requirement already satisfied: cachetools<5.0,>=2.0.0 in c:\\users\\muhammadalfarizi\\appdata\\local\\programs\\python\\python37\\lib\\site-packages (from google-auth<2,>=1.6.3->tensorboard~=2.4->tensorflow) (4.2.1)\n",
      "Requirement already satisfied: requests-oauthlib>=0.7.0 in c:\\users\\muhammadalfarizi\\appdata\\local\\programs\\python\\python37\\lib\\site-packages (from google-auth-oauthlib<0.5,>=0.4.1->tensorboard~=2.4->tensorflow) (1.3.0)\n",
      "Requirement already satisfied: importlib-metadata in c:\\users\\muhammadalfarizi\\appdata\\local\\programs\\python\\python37\\lib\\site-packages (from markdown>=2.6.8->tensorboard~=2.4->tensorflow) (3.9.0)\n",
      "Requirement already satisfied: pyasn1<0.5.0,>=0.4.6 in c:\\users\\muhammadalfarizi\\appdata\\local\\programs\\python\\python37\\lib\\site-packages (from pyasn1-modules>=0.2.1->google-auth<2,>=1.6.3->tensorboard~=2.4->tensorflow) (0.4.8)\n",
      "Requirement already satisfied: chardet<3.1.0,>=3.0.2 in c:\\users\\muhammadalfarizi\\appdata\\local\\programs\\python\\python37\\lib\\site-packages (from requests<3,>=2.21.0->tensorboard~=2.4->tensorflow) (3.0.4)\n",
      "Requirement already satisfied: idna<2.9,>=2.5 in c:\\users\\muhammadalfarizi\\appdata\\local\\programs\\python\\python37\\lib\\site-packages (from requests<3,>=2.21.0->tensorboard~=2.4->tensorflow) (2.8)\n",
      "Requirement already satisfied: certifi>=2017.4.17 in c:\\users\\muhammadalfarizi\\appdata\\local\\programs\\python\\python37\\lib\\site-packages (from requests<3,>=2.21.0->tensorboard~=2.4->tensorflow) (2020.12.5)\n",
      "Requirement already satisfied: urllib3<1.25,>=1.21.1 in c:\\users\\muhammadalfarizi\\appdata\\local\\programs\\python\\python37\\lib\\site-packages (from requests<3,>=2.21.0->tensorboard~=2.4->tensorflow) (1.24.3)\n",
      "Requirement already satisfied: oauthlib>=3.0.0 in c:\\users\\muhammadalfarizi\\appdata\\local\\programs\\python\\python37\\lib\\site-packages (from requests-oauthlib>=0.7.0->google-auth-oauthlib<0.5,>=0.4.1->tensorboard~=2.4->tensorflow) (3.1.0)\n",
      "Requirement already satisfied: zipp>=0.5 in c:\\users\\muhammadalfarizi\\appdata\\local\\programs\\python\\python37\\lib\\site-packages (from importlib-metadata->markdown>=2.6.8->tensorboard~=2.4->tensorflow) (3.4.1)\n"
     ]
    },
    {
     "name": "stderr",
     "output_type": "stream",
     "text": [
      "WARNING: You are using pip version 21.0.1; however, version 21.1.2 is available.\n",
      "You should consider upgrading via the 'c:\\users\\muhammadalfarizi\\appdata\\local\\programs\\python\\python37\\python.exe -m pip install --upgrade pip' command.\n"
     ]
    }
   ],
   "source": [
    "# Kalo belum ada package tensorflow\n",
    "!pip install tensorflow"
   ]
  },
  {
   "cell_type": "markdown",
   "id": "latter-server",
   "metadata": {},
   "source": [
    "# Import Library"
   ]
  },
  {
   "cell_type": "code",
   "execution_count": 1,
   "id": "colonial-fisher",
   "metadata": {},
   "outputs": [],
   "source": [
    "import tensorflow as tf\n",
    "import pickle\n",
    "\n",
    "from tensorflow.keras.preprocessing.text import Tokenizer\n",
    "from tensorflow.keras.preprocessing.sequence import pad_sequences\n",
    "from tensorflow.keras.models import load_model"
   ]
  },
  {
   "cell_type": "code",
   "execution_count": 62,
   "id": "cloudy-freeze",
   "metadata": {},
   "outputs": [],
   "source": [
    "with open('./sentiment_analyses/model/tokenizer.pickle', 'rb') as handle:\n",
    "    tokenizer = pickle.load(handle)"
   ]
  },
  {
   "cell_type": "markdown",
   "id": "twelve-consistency",
   "metadata": {},
   "source": [
    "## Load Data dari Model"
   ]
  },
  {
   "cell_type": "code",
   "execution_count": 63,
   "id": "distinct-midwest",
   "metadata": {},
   "outputs": [],
   "source": [
    "model_sentiment = load_model('./sentiment_analyses/model/model_sentiment.h5')"
   ]
  },
  {
   "cell_type": "markdown",
   "id": "equipped-pleasure",
   "metadata": {},
   "source": [
    "# Encode Text menjadi Sequence pake fungsi ini"
   ]
  },
  {
   "cell_type": "code",
   "execution_count": 83,
   "id": "directed-chocolate",
   "metadata": {},
   "outputs": [],
   "source": [
    "def Encoding(text):\n",
    "    with open('./sentiment_analyses/model/tokenizer.pickle', 'rb') as handle:\n",
    "        tokenizer_new = pickle.load(handle)\n",
    "    sequence = tokenizer_new.texts_to_sequences([text])\n",
    "#     sequence = tokenizer.texts_to_sequences([text])\n",
    "    paded = pad_sequences(sequence, padding='pre', truncating='post', maxlen=125)\n",
    "    \n",
    "    return paded"
   ]
  },
  {
   "cell_type": "markdown",
   "id": "italian-current",
   "metadata": {},
   "source": [
    "# Fungsi Klasifikasi, INPUT = Probabilitas kandungan kalimat negatif\n",
    "\n",
    "### sebenernya gaterlalu penting, cuma buat display hasil nya aja"
   ]
  },
  {
   "cell_type": "code",
   "execution_count": 84,
   "id": "instant-provincial",
   "metadata": {},
   "outputs": [],
   "source": [
    "def classify(score):\n",
    "    if score > 50:\n",
    "        print(\"Kalimat ini {:.2f}% Kalimat CONTRA (-)\".format(score))\n",
    "    else:\n",
    "        print(\"Kalimat ini {:.2f}% Kalimat PRO (+)\".format((100-score)))"
   ]
  },
  {
   "cell_type": "markdown",
   "id": "familiar-problem",
   "metadata": {},
   "source": [
    "# TextProcessor, pokonya masukin text kesini, dia langsung proses ke get encode sekaligus manggil fungsi classify\n",
    "\n",
    "### Parameter -> text dalam bentuk string, sama model yang dipake"
   ]
  },
  {
   "cell_type": "code",
   "execution_count": 85,
   "id": "graphic-tutorial",
   "metadata": {},
   "outputs": [],
   "source": [
    "def TextProcessing(text, model):\n",
    "    sequence = Encoding(text)\n",
    "    result = model.predict(sequence)\n",
    "    \n",
    "    return result[0][0] * 100"
   ]
  },
  {
   "cell_type": "markdown",
   "id": "august-thinking",
   "metadata": {},
   "source": [
    "# CONTOH"
   ]
  },
  {
   "cell_type": "code",
   "execution_count": 92,
   "id": "artistic-status",
   "metadata": {},
   "outputs": [
    {
     "name": "stdout",
     "output_type": "stream",
     "text": [
      "Kalimat ini 77.34% Kalimat PRO (+)\n"
     ]
    }
   ],
   "source": [
    "hasil = classify(TextProcessing(\"dasaar makhluk pintar\", model_sentiment))"
   ]
  },
  {
   "cell_type": "markdown",
   "id": "electronic-czech",
   "metadata": {},
   "source": [
    "## Disclaimer -> model belom fix, hasil tokenizer yang disini beda sama yg pas training model nya, jadi ngacak wkwk\n",
    "\n",
    "### tapi buat coba coba simulasi make model bisa lah"
   ]
  },
  {
   "cell_type": "code",
   "execution_count": null,
   "id": "confirmed-frequency",
   "metadata": {},
   "outputs": [],
   "source": []
  }
 ],
 "metadata": {
  "kernelspec": {
   "display_name": "Python 3",
   "language": "python",
   "name": "python3"
  },
  "language_info": {
   "codemirror_mode": {
    "name": "ipython",
    "version": 3
   },
   "file_extension": ".py",
   "mimetype": "text/x-python",
   "name": "python",
   "nbconvert_exporter": "python",
   "pygments_lexer": "ipython3",
   "version": "3.7.9"
  }
 },
 "nbformat": 4,
 "nbformat_minor": 5
}
