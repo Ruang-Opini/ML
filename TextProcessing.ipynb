{
  "nbformat": 4,
  "nbformat_minor": 0,
  "metadata": {
    "colab": {
      "name": "Untitled3.ipynb",
      "provenance": []
    },
    "kernelspec": {
      "name": "python3",
      "display_name": "Python 3"
    },
    "language_info": {
      "name": "python"
    }
  },
  "cells": [
    {
      "cell_type": "code",
      "metadata": {
        "id": "2DJDhoNBYnOh"
      },
      "source": [
        "import tensorflow as tf\n",
        "from tensorflow.keras.preprocessing.text import Tokenizer\n",
        "from tensorflow.keras.preprocessing.sequence import pad_sequences\n",
        "import pickle\n",
        "import numpy as np"
      ],
      "execution_count": 78,
      "outputs": []
    },
    {
      "cell_type": "code",
      "metadata": {
        "id": "yFHyIIFNZNER"
      },
      "source": [
        "with open('./tokenizer.pickle', 'rb') as token:\n",
        "  tokenizer = pickle.load(token)"
      ],
      "execution_count": 92,
      "outputs": []
    },
    {
      "cell_type": "code",
      "metadata": {
        "id": "7-GGKp4tZqb-"
      },
      "source": [
        "def Encoding(text):\n",
        "  sequence = tokenizer.texts_to_sequences([text])\n",
        "  paded = pad_sequences(\n",
        "      sequence,\n",
        "      padding = 'pre',\n",
        "      truncating = 'post',\n",
        "      maxlen = 125\n",
        "  )\n",
        "  return paded"
      ],
      "execution_count": 93,
      "outputs": []
    },
    {
      "cell_type": "code",
      "metadata": {
        "id": "TriJzgw-aLat"
      },
      "source": [
        "def TextProcessing(text_list):\n",
        "  sequences_list = []\n",
        "  for text in text_list:\n",
        "    sequence = Encoding(text)\n",
        "    # print(sequence[0])\n",
        "    # print()\n",
        "    sequences_list.append(sequence[0])\n",
        "  sequences_list = np.array(sequences_list)\n",
        "  return sequences_list"
      ],
      "execution_count": 94,
      "outputs": []
    },
    {
      "cell_type": "code",
      "metadata": {
        "id": "fsoEXS6LaVqw"
      },
      "source": [
        "sentences = [\n",
        "    \"Pemerintah buat kebijakan odong odong banget\",\n",
        "    \"pemerintah buat kebijakan kok asal banget ya kayanya\",\n",
        "    \"bukit algoritma tu kek ngayal banget, kurang masuk akal\",\n",
        "    \"pemerintah udah kerja bagus sejauh ini\",\n",
        "    \"Pak jokowi udah kerja bagus selama 2 periode ini\",\n",
        "    \"uu ciptaker ini bener bener buat sengsara buruh doang\",\n",
        "    \"udah tau vaksin haram, masih aja vaksin\",\n",
        "    \"buat kebijakan samasekali kaga nyambung sama situasi #tolakkebijakanini\",\n",
        "    \"kebijakan sampah, gajelas, kebijakan tolol\",\n",
        "    \"kebijakan yang seperti ini sih bener bener dibutuhin rakyat #dukungkebijakanini\",\n",
        "    \"dasar goblok\"\n",
        "]"
      ],
      "execution_count": 95,
      "outputs": []
    },
    {
      "cell_type": "code",
      "metadata": {
        "id": "KzBxP2NyankF"
      },
      "source": [
        "sequences_result = TextProcessing(sentences)"
      ],
      "execution_count": 96,
      "outputs": []
    },
    {
      "cell_type": "code",
      "metadata": {
        "id": "uL3kOD6mbG61"
      },
      "source": [
        "model = tf.keras.models.load_model('./model_sentiment.h5')"
      ],
      "execution_count": 97,
      "outputs": []
    },
    {
      "cell_type": "code",
      "metadata": {
        "colab": {
          "base_uri": "https://localhost:8080/"
        },
        "id": "kz9ayR4_cPqz",
        "outputId": "87b9ac3e-8e20-45f7-ff58-1fc4b56d744c"
      },
      "source": [
        "hasil_predict = model.predict([sequences_result])"
      ],
      "execution_count": 98,
      "outputs": [
        {
          "output_type": "stream",
          "text": [
            "WARNING:tensorflow:5 out of the last 11 calls to <function Model.make_predict_function.<locals>.predict_function at 0x7fc98c328440> triggered tf.function retracing. Tracing is expensive and the excessive number of tracings could be due to (1) creating @tf.function repeatedly in a loop, (2) passing tensors with different shapes, (3) passing Python objects instead of tensors. For (1), please define your @tf.function outside of the loop. For (2), @tf.function has experimental_relax_shapes=True option that relaxes argument shapes that can avoid unnecessary retracing. For (3), please refer to https://www.tensorflow.org/guide/function#controlling_retracing and https://www.tensorflow.org/api_docs/python/tf/function for  more details.\n"
          ],
          "name": "stdout"
        }
      ]
    },
    {
      "cell_type": "code",
      "metadata": {
        "colab": {
          "base_uri": "https://localhost:8080/"
        },
        "id": "xSGnhEtUcW-e",
        "outputId": "79636e3f-4fd4-419b-e491-083dbfb420de"
      },
      "source": [
        "print(hasil_predict)"
      ],
      "execution_count": 99,
      "outputs": [
        {
          "output_type": "stream",
          "text": [
            "[[0.8887344 ]\n",
            " [0.9779142 ]\n",
            " [0.6166497 ]\n",
            " [0.00889239]\n",
            " [0.0114516 ]\n",
            " [0.6732176 ]\n",
            " [0.52503467]\n",
            " [0.81951416]\n",
            " [0.99084795]\n",
            " [0.20810446]\n",
            " [0.9846846 ]]\n"
          ],
          "name": "stdout"
        }
      ]
    }
  ]
}
