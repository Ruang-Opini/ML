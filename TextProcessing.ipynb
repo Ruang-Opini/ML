{
 "cells": [
  {
   "cell_type": "code",
   "execution_count": 78,
   "metadata": {
    "id": "2DJDhoNBYnOh"
   },
   "outputs": [],
   "source": [
    "import tensorflow as tf\n",
    "from tensorflow.keras.preprocessing.text import Tokenizer\n",
    "from tensorflow.keras.preprocessing.sequence import pad_sequences\n",
    "import pickle\n",
    "import numpy as np"
   ]
  },
  {
   "cell_type": "code",
   "execution_count": 92,
   "metadata": {
    "id": "yFHyIIFNZNER"
   },
   "outputs": [],
   "source": [
    "with open('./tokenizer.pickle', 'rb') as token:\n",
    "  tokenizer = pickle.load(token)"
   ]
  },
  {
   "cell_type": "code",
   "execution_count": 93,
   "metadata": {
    "id": "7-GGKp4tZqb-"
   },
   "outputs": [],
   "source": [
    "def Encoding(text):\n",
    "  sequence = tokenizer.texts_to_sequences([text])\n",
    "  paded = pad_sequences(\n",
    "      sequence,\n",
    "      padding = 'pre',\n",
    "      truncating = 'post',\n",
    "      maxlen = 125\n",
    "  )\n",
    "  return paded"
   ]
  },
  {
   "cell_type": "code",
   "execution_count": 94,
   "metadata": {
    "id": "TriJzgw-aLat"
   },
   "outputs": [],
   "source": [
    "def TextProcessing(text_list):\n",
    "  sequences_list = []\n",
    "  for text in text_list:\n",
    "    sequence = Encoding(text)\n",
    "    # print(sequence[0])\n",
    "    # print()\n",
    "    sequences_list.append(sequence[0])\n",
    "  sequences_list = np.array(sequences_list)\n",
    "  return sequences_list"
   ]
  },
  {
   "cell_type": "code",
   "execution_count": 95,
   "metadata": {
    "id": "fsoEXS6LaVqw"
   },
   "outputs": [],
   "source": [
    "sentences = [\n",
    "    \"Pemerintah buat kebijakan odong odong banget\",\n",
    "    \"pemerintah buat kebijakan kok asal banget ya kayanya\",\n",
    "    \"bukit algoritma tu kek ngayal banget, kurang masuk akal\",\n",
    "    \"pemerintah udah kerja bagus sejauh ini\",\n",
    "    \"Pak jokowi udah kerja bagus selama 2 periode ini\",\n",
    "    \"uu ciptaker ini bener bener buat sengsara buruh doang\",\n",
    "    \"udah tau vaksin haram, masih aja vaksin\",\n",
    "    \"buat kebijakan samasekali kaga nyambung sama situasi #tolakkebijakanini\",\n",
    "    \"kebijakan sampah, gajelas, kebijakan tolol\",\n",
    "    \"kebijakan yang seperti ini sih bener bener dibutuhin rakyat #dukungkebijakanini\",\n",
    "    \"dasar goblok\"\n",
    "]"
   ]
  },
  {
   "cell_type": "code",
   "execution_count": 96,
   "metadata": {
    "id": "KzBxP2NyankF"
   },
   "outputs": [],
   "source": [
    "sequences_result = TextProcessing(sentences)"
   ]
  }
 ],
 "metadata": {
  "colab": {
   "name": "Untitled3.ipynb",
   "provenance": []
  },
  "kernelspec": {
   "display_name": "Python 3",
   "language": "python",
   "name": "python3"
  },
  "language_info": {
   "codemirror_mode": {
    "name": "ipython",
    "version": 3
   },
   "file_extension": ".py",
   "mimetype": "text/x-python",
   "name": "python",
   "nbconvert_exporter": "python",
   "pygments_lexer": "ipython3",
   "version": "3.8.0"
  }
 },
 "nbformat": 4,
 "nbformat_minor": 4
}
