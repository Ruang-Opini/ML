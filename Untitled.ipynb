{
 "cells": [
  {
   "cell_type": "markdown",
   "id": "brutal-sarah",
   "metadata": {},
   "source": [
    "# IMPORT LIBRARY"
   ]
  },
  {
   "cell_type": "code",
   "execution_count": 1,
   "id": "comparative-petite",
   "metadata": {},
   "outputs": [],
   "source": [
    "import tensorflow as tf\n",
    "from tensorflow.keras.models import load_model"
   ]
  },
  {
   "cell_type": "markdown",
   "id": "streaming-ladder",
   "metadata": {},
   "source": [
    "# Load Model"
   ]
  },
  {
   "cell_type": "code",
   "execution_count": 2,
   "id": "unavailable-press",
   "metadata": {},
   "outputs": [],
   "source": [
    "model = load_model('model.h5')"
   ]
  },
  {
   "cell_type": "markdown",
   "id": "assured-module",
   "metadata": {},
   "source": [
    "# Rescaling value, jangan diubah"
   ]
  },
  {
   "cell_type": "code",
   "execution_count": 3,
   "id": "passive-genesis",
   "metadata": {},
   "outputs": [],
   "source": [
    "fullnamewords_maxmin = [12, 5]\n",
    "fullnamelen_maxmin = [50,0]\n",
    "desclen_maxmin = [150, 0]\n",
    "posts_maxmin = [299 * 3, 0]\n",
    "followers_maxmin = [110*3, 0]\n",
    "following_maxmin = [302*3, 0]"
   ]
  },
  {
   "cell_type": "code",
   "execution_count": 4,
   "id": "polyphonic-exception",
   "metadata": {},
   "outputs": [],
   "source": [
    "def rescale_uname(value):\n",
    "    max = 15\n",
    "    min = 4\n",
    "    if value > max:\n",
    "        value = 1.0\n",
    "    elif value < min:\n",
    "        value = 0.0\n",
    "    else:\n",
    "        value = (value-min)/(max-min)\n",
    "    return value\n",
    "\n",
    "def rescale(value, maxmin):\n",
    "    maxval = maxmin[0]\n",
    "    minval = maxmin[1]\n",
    "    if value > maxval:\n",
    "        value = 1.0\n",
    "    elif value < minval:\n",
    "        value = 0.0\n",
    "    else:\n",
    "        value = (value-minval)/(maxval-minval)\n",
    "    return value"
   ]
  },
  {
   "cell_type": "markdown",
   "id": "shared-challenge",
   "metadata": {},
   "source": [
    "# METHOD BUAT NGUBAH FITUR YANG DIMASUKIN JADI FITUR YANG DIPERLUIN BUAT MODEL"
   ]
  },
  {
   "cell_type": "code",
   "execution_count": 23,
   "id": "injured-bouquet",
   "metadata": {},
   "outputs": [],
   "source": [
    "def processing_profil(profil_pic, username, fullname, desc, private, posts, followers, following):\n",
    "#     username = username.replace('@', '')\n",
    "    username = username.lower()\n",
    "#     print(\"username = {}\".format(username))\n",
    "    username_len = rescale_uname(len(username))\n",
    "#     print(\"username length = {}\".format(username_len))\n",
    "    fullname_words = fullname.split()\n",
    "    fullname_words = len(fullname_words)\n",
    "    fullname_words = rescale(fullname_words, fullnamewords_maxmin)\n",
    "#     print(\"Fullname words = {}\".format(fullname_words))\n",
    "    fullname_len = rescale(len(fullname), fullnamelen_maxmin)\n",
    "#     print(\"Fullname length = {}\".format(fullname_len))\n",
    "    fullname = fullname.replace(' ', '')\n",
    "    fullname = fullname.lower()\n",
    "    \n",
    "    if fullname == username:\n",
    "        same = 1\n",
    "    else:\n",
    "        same = 0\n",
    "#     print(\"is same fullname username = {}\".format(same))\n",
    "    \n",
    "    desc_len = rescale(len(desc), desclen_maxmin)\n",
    "#     print(\"Desc length = {}\".format(desc_len))\n",
    "    num_post = rescale(posts, posts_maxmin)\n",
    "#     print(\"post = {}\".format(num_post))\n",
    "    followers = rescale(followers, followers_maxmin)\n",
    "#     print(\"followers = {}\".format(followers))\n",
    "    following = rescale(following, following_maxmin)\n",
    "#     print(\"following = {}\".format(following))\n",
    "    if profil_pic is not None:\n",
    "        profil_pic = 1\n",
    "    else:\n",
    "        profil_pic = 0\n",
    "    \n",
    "    print(profil_pic)\n",
    "        \n",
    "    if private:\n",
    "        private = 1\n",
    "    else: \n",
    "        private = 0\n",
    "    \n",
    "    print(private)\n",
    "    print()\n",
    "    features = [\n",
    "        profil_pic,\n",
    "        username_len,\n",
    "        fullname_words,\n",
    "        fullname_len,\n",
    "        same,\n",
    "        desc_len,\n",
    "        private,\n",
    "        num_post,\n",
    "        followers,\n",
    "        following\n",
    "    ]\n",
    "    \n",
    "    return features"
   ]
  },
  {
   "cell_type": "markdown",
   "id": "looking-lexington",
   "metadata": {},
   "source": [
    "# Customisasi Hasil Keluaran"
   ]
  },
  {
   "cell_type": "code",
   "execution_count": 16,
   "id": "indonesian-product",
   "metadata": {},
   "outputs": [],
   "source": [
    "def process_result(result):\n",
    "    result_list = []\n",
    "    \n",
    "    for res in result:\n",
    "        res[0] *= 100\n",
    "        if(res[0] > 50):\n",
    "            result_list.append(\"User Probably {:.2f}% is Buzzer Account\".format(res[0]))\n",
    "        else:\n",
    "            result_list.append(\"User Probably {:.2f}% is Active Account\".format(100-res[0]))\n",
    "    \n",
    "    return result_list"
   ]
  },
  {
   "cell_type": "markdown",
   "id": "parliamentary-marble",
   "metadata": {},
   "source": [
    "# Ngehandle data pertama kali yang berupa LIST OF DICTIONARY, sekaligus "
   ]
  },
  {
   "cell_type": "code",
   "execution_count": 17,
   "id": "bronze-graphics",
   "metadata": {},
   "outputs": [],
   "source": [
    "def dict_handler(dictlist, model):\n",
    "    profil_name = []\n",
    "    query = []\n",
    "    for dict in dictlist:\n",
    "        single_list = []\n",
    "        profil_pic = dict['profil_pic']\n",
    "        username = dict['username']\n",
    "        fullname = dict['fullname']\n",
    "        desc = dict['desc']\n",
    "        private = dict['private']\n",
    "        posts = dict['posts']\n",
    "        followers = dict['followers']\n",
    "        following = dict['following']\n",
    "        single_list = processing_profil(profil_pic, username, fullname, desc, private, posts, followers, following)\n",
    "        profil_name.append(username)\n",
    "        query.append(single_list)\n",
    "    result = model.predict(query)\n",
    "    result = process_result(result)\n",
    "    return profil_name, result"
   ]
  },
  {
   "cell_type": "markdown",
   "id": "under-gather",
   "metadata": {},
   "source": [
    "# Buat nampilin hasil username + buzzer prob"
   ]
  },
  {
   "cell_type": "code",
   "execution_count": 18,
   "id": "double-smith",
   "metadata": {},
   "outputs": [],
   "source": [
    "def show_result(owner_list, result_list):\n",
    "    for i in range(len(owner_list)):\n",
    "        print(owner_list[i])\n",
    "        print(result_list[i])\n",
    "        print()"
   ]
  },
  {
   "cell_type": "markdown",
   "id": "european-wrist",
   "metadata": {},
   "source": [
    "# Kalo ada data, masukin di data_dict ini"
   ]
  },
  {
   "cell_type": "code",
   "execution_count": 24,
   "id": "accessory-marriage",
   "metadata": {},
   "outputs": [
    {
     "name": "stdout",
     "output_type": "stream",
     "text": [
      "1\n",
      "0\n",
      "\n",
      "0\n",
      "0\n",
      "\n",
      "0\n",
      "1\n",
      "\n",
      "1\n",
      "0\n",
      "\n",
      "0\n",
      "1\n",
      "\n",
      "1\n",
      "1\n",
      "\n",
      "@malfrzt\n",
      "User Probably 81.40% is Active Account\n",
      "\n",
      "@best_in_dumbest\n",
      "User Probably 94.41% is Buzzer Account\n",
      "\n",
      "@CJRubinPhoto\n",
      "User Probably 94.96% is Active Account\n",
      "\n",
      "@JacobWhitesides\n",
      "User Probably 92.03% is Active Account\n",
      "\n",
      "@KaitlynTck\n",
      "User Probably 97.20% is Active Account\n",
      "\n",
      "@SaputriRisty\n",
      "User Probably 99.95% is Buzzer Account\n",
      "\n"
     ]
    }
   ],
   "source": [
    "data_dict = [\n",
    "    {'profil_pic' : 'http/1231232114214',\n",
    "    'username' : '@malfrzt',\n",
    "    'fullname' : 'M Alfarizi',\n",
    "    'desc' : 'ig : muhammadalfarizi.t',\n",
    "    'private' : False,\n",
    "    'posts' : 613,\n",
    "    'followers' : 111,\n",
    "    'following' : 89},\n",
    "             \n",
    "     {'profil_pic' : None,\n",
    "    'username' : '@best_in_dumbest',\n",
    "    'fullname' : 'The Best In Dumbest',\n",
    "    'desc' : 'Blame @xaiax, Inspired by @MakingInvisible, using cmu phonetic data to produce incongruous matches.Some images via Lorem Flickr.',\n",
    "    'private' : False,\n",
    "    'posts' : 251,\n",
    "    'followers' : 1700,\n",
    "    'following' : 4},\n",
    "    \n",
    "    {'profil_pic' : None,\n",
    "    'username' : '@CJRubinPhoto',\n",
    "    'fullname' : 'CJ Rubin',\n",
    "    'desc' : 'Photographing the American West since 1980. I specialize in location portraits & events, both indoors & outside, using natural light & portable studio lighting.',\n",
    "    'private' : True,\n",
    "    'posts' : 84100,\n",
    "    'followers' : 1800000000,\n",
    "    'following' : 2269},\n",
    "    \n",
    "    {'profil_pic' : 'httpasdadadads',\n",
    "    'username' : '@JacobWhitesides',\n",
    "    'fullname' : 'jacob whitesides',\n",
    "    'desc' : 'Photographing the American West since 1980. I specialize in location portraits & events, both indoors & outside, using natural light & portable studio lighting.',\n",
    "    'private' : False,\n",
    "    'posts' : 84100,\n",
    "    'followers' : 820,\n",
    "    'following' : 851},\n",
    "    \n",
    "    {'profil_pic' : None,\n",
    "    'username' : '@KaitlynTck',\n",
    "    'fullname' : 'Kaitlyn • Girl Pow-R',\n",
    "    'desc' : 'Girl Pow-R Trainees: The Rubies Gem stonesinger & actress 11x Scenebot Honorable Mention and 19x Top Select, Insta - kaitlyn_tck',\n",
    "    'private' : True,\n",
    "    'posts' : 9341,\n",
    "    'followers' : 583,\n",
    "    'following' : 951},\n",
    "    \n",
    "    {'profil_pic' : 'httpasfasfwefwe',\n",
    "    'username' : '@SaputriRisty',\n",
    "    'fullname' : 'Risty Saputri',\n",
    "     'desc' : 'Mutualan terus',\n",
    "    'private' :True,\n",
    "    'posts' : 218,\n",
    "    'followers' : 33,\n",
    "    'following' : 49},\n",
    "    ]\n",
    "\n",
    "owner, result = dict_handler(data_dict , model)\n",
    "\n",
    "show_result(owner, result)"
   ]
  },
  {
   "cell_type": "code",
   "execution_count": null,
   "id": "modular-yellow",
   "metadata": {},
   "outputs": [],
   "source": []
  },
  {
   "cell_type": "code",
   "execution_count": null,
   "id": "indirect-height",
   "metadata": {},
   "outputs": [],
   "source": []
  }
 ],
 "metadata": {
  "kernelspec": {
   "display_name": "Python 3",
   "language": "python",
   "name": "python3"
  },
  "language_info": {
   "codemirror_mode": {
    "name": "ipython",
    "version": 3
   },
   "file_extension": ".py",
   "mimetype": "text/x-python",
   "name": "python",
   "nbconvert_exporter": "python",
   "pygments_lexer": "ipython3",
   "version": "3.7.9"
  }
 },
 "nbformat": 4,
 "nbformat_minor": 5
}
