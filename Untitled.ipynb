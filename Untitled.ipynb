{
 "cells": [
  {
   "cell_type": "markdown",
   "id": "corrected-warrior",
   "metadata": {},
   "source": [
    "# IMPORT LIBRARY"
   ]
  },
  {
   "cell_type": "code",
   "execution_count": 24,
   "id": "junior-laugh",
   "metadata": {},
   "outputs": [],
   "source": [
    "import tensorflow as tf\n",
    "from tensorflow.keras.models import load_model"
   ]
  },
  {
   "cell_type": "markdown",
   "id": "racial-class",
   "metadata": {},
   "source": [
    "# Load Model"
   ]
  },
  {
   "cell_type": "code",
   "execution_count": 25,
   "id": "sonic-country",
   "metadata": {},
   "outputs": [],
   "source": [
    "model = load_model('model.h5')"
   ]
  },
  {
   "cell_type": "markdown",
   "id": "accompanied-mumbai",
   "metadata": {},
   "source": [
    "# Rescaling value, jangan diubah"
   ]
  },
  {
   "cell_type": "code",
   "execution_count": 26,
   "id": "enormous-portugal",
   "metadata": {},
   "outputs": [],
   "source": [
    "fullnamewords_maxmin = [12, 5]\n",
    "fullnamelen_maxmin = [50,0]\n",
    "desclen_maxmin = [150, 0]\n",
    "posts_maxmin = [299 * 3, 0]\n",
    "followers_maxmin = [110*3, 0]\n",
    "following_maxmin = [302*3, 0]"
   ]
  },
  {
   "cell_type": "code",
   "execution_count": 27,
   "id": "educated-award",
   "metadata": {},
   "outputs": [],
   "source": [
    "def rescale_uname(value):\n",
    "    max = 15\n",
    "    min = 4\n",
    "    if value > max:\n",
    "        value = 1.0\n",
    "    elif value < min:\n",
    "        value = 0.0\n",
    "    else:\n",
    "        value = (value-min)/(max-min)\n",
    "    return value\n",
    "\n",
    "def rescale(value, maxmin):\n",
    "    maxval = maxmin[0]\n",
    "    minval = maxmin[1]\n",
    "    if value > maxval:\n",
    "        value = 1.0\n",
    "    elif value < minval:\n",
    "        value = 0.0\n",
    "    else:\n",
    "        value = (value-minval)/(maxval-minval)\n",
    "    return value"
   ]
  },
  {
   "cell_type": "markdown",
   "id": "adjacent-leader",
   "metadata": {},
   "source": [
    "# METHOD BUAT NGUBAH FITUR YANG DIMASUKIN JADI FITUR YANG DIPERLUIN BUAT MODEL"
   ]
  },
  {
   "cell_type": "code",
   "execution_count": 5,
   "id": "japanese-inventory",
   "metadata": {},
   "outputs": [],
   "source": [
    "def processing_profil(profil_pic, username, fullname, desc, private, posts, followers, following):\n",
    "#     username = username.replace('@', '')\n",
    "    username = username.lower()\n",
    "#     print(\"username = {}\".format(username))\n",
    "    username_len = rescale_uname(len(username))\n",
    "#     print(\"username length = {}\".format(username_len))\n",
    "    fullname_words = fullname.split()\n",
    "    fullname_words = len(fullname_words)\n",
    "    fullname_words = rescale(fullname_words, fullnamewords_maxmin)\n",
    "#     print(\"Fullname words = {}\".format(fullname_words))\n",
    "    fullname_len = rescale(len(fullname), fullnamelen_maxmin)\n",
    "#     print(\"Fullname length = {}\".format(fullname_len))\n",
    "    fullname = fullname.replace(' ', '')\n",
    "    fullname = fullname.lower()\n",
    "    \n",
    "    if fullname == username:\n",
    "        same = 1\n",
    "    else:\n",
    "        same = 0\n",
    "#     print(\"is same fullname username = {}\".format(same))\n",
    "    \n",
    "    desc_len = rescale(len(desc), desclen_maxmin)\n",
    "#     print(\"Desc length = {}\".format(desc_len))\n",
    "    num_post = rescale(posts, posts_maxmin)\n",
    "#     print(\"post = {}\".format(num_post))\n",
    "    followers = rescale(followers, followers_maxmin)\n",
    "#     print(\"followers = {}\".format(followers))\n",
    "    following = rescale(following, following_maxmin)\n",
    "#     print(\"following = {}\".format(following))\n",
    "    \n",
    "    features = [\n",
    "        profil_pic,\n",
    "        username_len,\n",
    "        fullname_words,\n",
    "        fullname_len,\n",
    "        same,\n",
    "        desc_len,\n",
    "        private,\n",
    "        num_post,\n",
    "        followers,\n",
    "        following\n",
    "    ]\n",
    "    \n",
    "    return features"
   ]
  },
  {
   "cell_type": "markdown",
   "id": "several-musician",
   "metadata": {},
   "source": [
    "# Customisasi Hasil Keluaran"
   ]
  },
  {
   "cell_type": "code",
   "execution_count": 20,
   "id": "pursuant-blind",
   "metadata": {},
   "outputs": [],
   "source": [
    "def process_result(result):\n",
    "    result_list = []\n",
    "    \n",
    "    for res in result:\n",
    "        res[0] *= 100\n",
    "        if(res[0] > 50):\n",
    "            result_list.append(\"Buzzer Detected for {:.2f}%\".format(res[0]))\n",
    "        else:\n",
    "            result_list.append(\"User Probably is Active Account\")\n",
    "    \n",
    "    return result_list"
   ]
  },
  {
   "cell_type": "markdown",
   "id": "atomic-pricing",
   "metadata": {},
   "source": [
    "# Ngehandle data pertama kali yang berupa LIST OF DICTIONARY, sekaligus "
   ]
  },
  {
   "cell_type": "code",
   "execution_count": 21,
   "id": "spread-spending",
   "metadata": {},
   "outputs": [],
   "source": [
    "def dict_handler(dictlist, model):\n",
    "    profil_name = []\n",
    "    query = []\n",
    "    for dict in dictlist:\n",
    "        single_list = []\n",
    "        profil_pic = dict['profil_pic']\n",
    "        username = dict['username']\n",
    "        fullname = dict['fullname']\n",
    "        desc = dict['desc']\n",
    "        private = dict['private']\n",
    "        posts = dict['posts']\n",
    "        followers = dict['followers']\n",
    "        following = dict['following']\n",
    "        single_list = processing_profil(profil_pic, username, fullname, desc, private, posts, followers, following)\n",
    "        profil_name.append(username)\n",
    "        query.append(single_list)\n",
    "    result = model.predict(query)\n",
    "    result = process_result(result)\n",
    "    return profil_name, result"
   ]
  },
  {
   "cell_type": "markdown",
   "id": "anticipated-attention",
   "metadata": {},
   "source": [
    "# Buat nampilin hasil username + buzzer prob"
   ]
  },
  {
   "cell_type": "code",
   "execution_count": 28,
   "id": "resistant-briefing",
   "metadata": {},
   "outputs": [],
   "source": [
    "def show_result(owner_list, result_list):\n",
    "    for i in range(len(owner_list)):\n",
    "        print(owner_list[i])\n",
    "        print(result_list[i])\n",
    "        print()"
   ]
  },
  {
   "cell_type": "markdown",
   "id": "entitled-haiti",
   "metadata": {},
   "source": [
    "# Kalo ada data, masukin di data_dict ini"
   ]
  },
  {
   "cell_type": "code",
   "execution_count": 23,
   "id": "attempted-blood",
   "metadata": {},
   "outputs": [
    {
     "name": "stdout",
     "output_type": "stream",
     "text": [
      "@malfrzt\n",
      "User Probably is Active Account\n",
      "\n"
     ]
    }
   ],
   "source": [
    "data_dict = [{'profil_pic' : 1,\n",
    "    'username' : '@malfrzt',\n",
    "    'fullname' : 'M Alfarizi',\n",
    "    'desc' : 'ig : muhammadalfarizi.t',\n",
    "    'private' : 0,\n",
    "    'posts' : 500,\n",
    "    'followers' : 111,\n",
    "    'following' : 89}]\n",
    "\n",
    "owner, result = dict_handler(data_dict , model)\n",
    "\n",
    "show_result(owner, result)"
   ]
  }
 ],
 "metadata": {
  "kernelspec": {
   "display_name": "Python 3",
   "language": "python",
   "name": "python3"
  },
  "language_info": {
   "codemirror_mode": {
    "name": "ipython",
    "version": 3
   },
   "file_extension": ".py",
   "mimetype": "text/x-python",
   "name": "python",
   "nbconvert_exporter": "python",
   "pygments_lexer": "ipython3",
   "version": "3.7.9"
  }
 },
 "nbformat": 4,
 "nbformat_minor": 5
}
