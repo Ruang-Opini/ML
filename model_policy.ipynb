{
  "nbformat": 4,
  "nbformat_minor": 0,
  "metadata": {
    "colab": {
      "name": "model_policy.ipynb",
      "provenance": [],
      "collapsed_sections": []
    },
    "kernelspec": {
      "name": "python3",
      "display_name": "Python 3"
    },
    "language_info": {
      "name": "python"
    }
  },
  "cells": [
    {
      "cell_type": "code",
      "metadata": {
        "colab": {
          "base_uri": "https://localhost:8080/"
        },
        "id": "b_v7H-okfdne",
        "outputId": "e4ff278c-67f8-47f0-9693-9a30d9d85cdf"
      },
      "source": [
        "!gdown --id 18h70iyVgnROKNBMEJWynQH9lftnk2Bxr\n",
        "!gdown --id 1KlOJTR6ioo5qis4U3K6xfH_doBAhp2s7"
      ],
      "execution_count": 1,
      "outputs": [
        {
          "output_type": "stream",
          "text": [
            "Downloading...\n",
            "From: https://drive.google.com/uc?id=18h70iyVgnROKNBMEJWynQH9lftnk2Bxr\n",
            "To: /content/model_policy.h5\n",
            "102MB [00:00, 113MB/s] \n",
            "Downloading...\n",
            "From: https://drive.google.com/uc?id=1KlOJTR6ioo5qis4U3K6xfH_doBAhp2s7\n",
            "To: /content/tokenizer_policy.pickle\n",
            "3.42MB [00:00, 108MB/s]\n"
          ],
          "name": "stdout"
        }
      ]
    },
    {
      "cell_type": "code",
      "metadata": {
        "id": "UJ8KWSJdgc7C"
      },
      "source": [
        "import tensorflow as tf\n",
        "import pickle\n",
        "from tensorflow.keras.preprocessing.text import Tokenizer\n",
        "from tensorflow.keras.preprocessing.sequence import pad_sequences\n",
        "from tensorflow.keras.models import load_model"
      ],
      "execution_count": 2,
      "outputs": []
    },
    {
      "cell_type": "code",
      "metadata": {
        "id": "oEGeMuWQgdCH"
      },
      "source": [
        "with open('tokenizer_policy.pickle', 'rb') as handle:\n",
        "  tokenizer = pickle.load(handle)"
      ],
      "execution_count": 3,
      "outputs": []
    },
    {
      "cell_type": "code",
      "metadata": {
        "id": "20kdkElqgdHn"
      },
      "source": [
        "model = load_model('model_policy.h5')"
      ],
      "execution_count": 4,
      "outputs": []
    },
    {
      "cell_type": "code",
      "metadata": {
        "id": "t4kS0oAegpmz"
      },
      "source": [
        "def Encoding(text):\n",
        "    sequence = tokenizer.texts_to_sequences([text])\n",
        "    paded = pad_sequences(sequence, padding='pre', truncating='post', maxlen=125)\n",
        "    \n",
        "    return paded"
      ],
      "execution_count": 5,
      "outputs": []
    },
    {
      "cell_type": "code",
      "metadata": {
        "id": "5pIoxD2Zh812"
      },
      "source": [
        "def classify(score):\n",
        "    if score > 50:\n",
        "        print(\"Kalimat ini {:.2f}% Kalimat Kebijakan\".format(score))\n",
        "    else:\n",
        "        print(\"Kalimat ini {:.2f}% Kalimat NON-Kebijakan \".format((100-score)))"
      ],
      "execution_count": 6,
      "outputs": []
    },
    {
      "cell_type": "code",
      "metadata": {
        "id": "AUBBSUTugprD"
      },
      "source": [
        "def TextProcessing(text, model):\n",
        "    sequence = Encoding(text)\n",
        "    result = model.predict(sequence)\n",
        "    \n",
        "    return result[0][0] * 100"
      ],
      "execution_count": 7,
      "outputs": []
    },
    {
      "cell_type": "code",
      "metadata": {
        "colab": {
          "base_uri": "https://localhost:8080/"
        },
        "id": "j50S7vQqhdgE",
        "outputId": "6ccdca40-115c-479a-f863-80d09f5ed609"
      },
      "source": [
        "list_sentences = []\n",
        "session = True\n",
        "\n",
        "print(\"Input 'stop' for Predicting Your Senteces\")\n",
        "\n",
        "while session:\n",
        "  sentence = input(\"Please input your text : \")\n",
        "  if sentence.lower() != \"stop\":\n",
        "    list_sentences.append(sentence)\n",
        "  else:\n",
        "    break\n",
        "\n",
        "print()\n",
        "print(\"Start Predicting...\")\n",
        "print()\n",
        "\n",
        "for sentence in list_sentences:\n",
        "  print(sentence)\n",
        "  classify(TextProcessing(sentence, model))\n",
        "  print()"
      ],
      "execution_count": 8,
      "outputs": [
        {
          "output_type": "stream",
          "text": [
            "Input 'stop' for Predicting Your Senteces\n",
            "Please input your text : Pemerintah ini kelakuan cuma bikin pusing aja, heran\n",
            "Please input your text : kalo udah gede saya mau jadi orang sukses\n",
            "Please input your text : menurut saya pemerintah yang sekarang kurang bisa dipercaya\n",
            "Please input your text : stop\n",
            "\n",
            "Start Predicting...\n",
            "\n",
            "Pemerintah ini kelakuan cuma bikin pusing aja, heran\n",
            "Kalimat ini 99.99% Kalimat NON-Kebijakan \n",
            "\n",
            "kalo udah gede saya mau jadi orang sukses\n",
            "Kalimat ini 100.00% Kalimat NON-Kebijakan \n",
            "\n",
            "menurut saya pemerintah yang sekarang kurang bisa dipercaya\n",
            "Kalimat ini 98.05% Kalimat Kebijakan\n",
            "\n"
          ],
          "name": "stdout"
        }
      ]
    }
  ]
}